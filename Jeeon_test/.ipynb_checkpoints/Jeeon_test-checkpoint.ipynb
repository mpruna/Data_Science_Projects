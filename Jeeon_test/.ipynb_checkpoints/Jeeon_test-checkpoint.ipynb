{
 "cells": [
  {
   "cell_type": "code",
   "execution_count": 1,
   "metadata": {},
   "outputs": [],
   "source": [
    "import pandas as pd\n",
    "import numpy as np\n",
    "import json\n",
    "from pandas.io.json import json_normalize\n",
    "from pprint import pprint"
   ]
  },
  {
   "cell_type": "code",
   "execution_count": 2,
   "metadata": {},
   "outputs": [
    {
     "data": {
      "text/html": [
       "<div>\n",
       "<style scoped>\n",
       "    .dataframe tbody tr th:only-of-type {\n",
       "        vertical-align: middle;\n",
       "    }\n",
       "\n",
       "    .dataframe tbody tr th {\n",
       "        vertical-align: top;\n",
       "    }\n",
       "\n",
       "    .dataframe thead th {\n",
       "        text-align: right;\n",
       "    }\n",
       "</style>\n",
       "<table border=\"1\" class=\"dataframe\">\n",
       "  <thead>\n",
       "    <tr style=\"text-align: right;\">\n",
       "      <th></th>\n",
       "      <th>_id</th>\n",
       "      <th>appointment</th>\n",
       "      <th>doctor</th>\n",
       "      <th>feedback</th>\n",
       "      <th>patient</th>\n",
       "      <th>prescription</th>\n",
       "      <th>rmp</th>\n",
       "    </tr>\n",
       "  </thead>\n",
       "  <tbody>\n",
       "    <tr>\n",
       "      <th>0</th>\n",
       "      <td>{'$oid': '5a2b08fc449b71fe766d0cfc'}</td>\n",
       "      <td>{'id': {'$oid': '59e41d44b907a10012788461'}, '...</td>\n",
       "      <td>{'id': {'$oid': '57f3597ddc989900118223a4'}, '...</td>\n",
       "      <td>{'id': {'$oid': '5a2b08fc449b71fe766d0f68'}, '...</td>\n",
       "      <td>{'id': {'$oid': '57f274664aa23c00119afb4d'}, '...</td>\n",
       "      <td>{'id': {'$oid': '59e480034a97ca0012ad911f'}, '...</td>\n",
       "      <td>{'id': {'$oid': '58399702cc32be0011fe895d'}, '...</td>\n",
       "    </tr>\n",
       "  </tbody>\n",
       "</table>\n",
       "</div>"
      ],
      "text/plain": [
       "                                    _id  \\\n",
       "0  {'$oid': '5a2b08fc449b71fe766d0cfc'}   \n",
       "\n",
       "                                         appointment  \\\n",
       "0  {'id': {'$oid': '59e41d44b907a10012788461'}, '...   \n",
       "\n",
       "                                              doctor  \\\n",
       "0  {'id': {'$oid': '57f3597ddc989900118223a4'}, '...   \n",
       "\n",
       "                                            feedback  \\\n",
       "0  {'id': {'$oid': '5a2b08fc449b71fe766d0f68'}, '...   \n",
       "\n",
       "                                             patient  \\\n",
       "0  {'id': {'$oid': '57f274664aa23c00119afb4d'}, '...   \n",
       "\n",
       "                                        prescription  \\\n",
       "0  {'id': {'$oid': '59e480034a97ca0012ad911f'}, '...   \n",
       "\n",
       "                                                 rmp  \n",
       "0  {'id': {'$oid': '58399702cc32be0011fe895d'}, '...  "
      ]
     },
     "execution_count": 2,
     "metadata": {},
     "output_type": "execute_result"
    }
   ],
   "source": [
    "sample = pd.read_json('prescription-corpus-sample-2012-12-08.json')\n",
    "sample"
   ]
  },
  {
   "cell_type": "code",
   "execution_count": 3,
   "metadata": {},
   "outputs": [
    {
     "name": "stdout",
     "output_type": "stream",
     "text": [
      "The 1 key is 0\n",
      "{   'advices': [   {   'snomed_id': '',\n",
      "                       'term': 'ŕ¦¨ŕ¦żŕ§źŕ¦®ŕ¦żŕ¦¤ ŕ¦“ŕ¦·ŕ§�ŕ¦§ '\n",
      "                               'ŕ¦–ŕ¦ľŕ¦¬ŕ§‡ŕ¦¨'},\n",
      "                   {   'snomed_id': '',\n",
      "                       'term': 'ŕ¦śŕ¦¨ŕ§Ťŕ¦ˇŕ¦żŕ¦¸ ŕ¦¨ŕ¦ľ ŕ¦•ŕ¦®ŕ¦˛ŕ§‡ '\n",
      "                               'ŕ¦¨ŕ¦żŕ¦•ŕ¦źŕ¦¬ŕ¦°ŕ§Ťŕ¦¤ŕ§€ ŕ¦Ąŕ¦ľŕ¦¨ŕ¦ľ '\n",
      "                               'ŕ¦¸ŕ§Ťŕ¦¬ŕ¦ľŕ¦¸ŕ§Ťŕ¦Ą '\n",
      "                               'ŕ¦•ŕ¦®ŕ¦Şŕ§Ťŕ¦˛ŕ§‡ŕ¦•ŕ§Ťŕ¦¸ŕ§‡ ŕ¦¦ŕ§‡ŕ¦–ŕ¦ľ '\n",
      "                               'ŕ¦•ŕ¦°ŕ¦¬ŕ§‡ŕ¦¨'}],\n",
      "    'complaints': [   {   'detail': '',\n",
      "                          'duration': {'type': 'month', 'value': 1.0},\n",
      "                          'situation': None,\n",
      "                          'symptom': {'snomed_id': 386661006, 'term': 'Fever'}},\n",
      "                      {   'detail': '',\n",
      "                          'duration': {'type': None, 'value': None},\n",
      "                          'situation': None,\n",
      "                          'symptom': {   'snomed_id': None,\n",
      "                                         'term': 'yellowish discolouration of '\n",
      "                                                 'eyes and urine'}},\n",
      "                      {   'detail': '',\n",
      "                          'duration': {'type': None, 'value': None},\n",
      "                          'situation': None,\n",
      "                          'symptom': {   'snomed_id': '49650001',\n",
      "                                         'term': 'pain & burning during '\n",
      "                                                 'micturaion'}},\n",
      "                      {   'detail': '',\n",
      "                          'duration': {'type': None, 'value': None},\n",
      "                          'situation': None,\n",
      "                          'symptom': {   'snomed_id': 422587007,\n",
      "                                         'term': 'Nausea'}},\n",
      "                      {   'detail': '',\n",
      "                          'duration': {'type': None, 'value': None},\n",
      "                          'situation': None,\n",
      "                          'symptom': {   'snomed_id': 418290006,\n",
      "                                         'term': 'Itching'}},\n",
      "                      {   'detail': 'after delivery no manustration occur',\n",
      "                          'duration': {'type': 'month', 'value': 16.0},\n",
      "                          'situation': None,\n",
      "                          'symptom': {   'snomed_id': 14302001,\n",
      "                                         'term': 'Amenorrhoea'}}],\n",
      "    'consultation_date': '2017-10-16T10:18:32.627+0000',\n",
      "    'consultation_duration': 1773,\n",
      "    'consultation_type': {   'is_followup': False,\n",
      "                             'is_free': False,\n",
      "                             'is_referred': False},\n",
      "    'diagnoses': {   'differential': [],\n",
      "                     'final': [],\n",
      "                     'provisional': [   {   'snomed_id': None,\n",
      "                                            'term': 'jaundice under '\n",
      "                                                    'evaluation'},\n",
      "                                        {'snomed_id': None, 'term': 'UTI'},\n",
      "                                        {   'snomed_id': '72934000',\n",
      "                                            'term': 'vaginal candidiasis'},\n",
      "                                        {   'snomed_id': None,\n",
      "                                            'term': 'Chicken pox'}]},\n",
      "    'followup_date': '2017-10-22T18:00:00.000+0000',\n",
      "    'history': {   'allergy': [],\n",
      "                   'chronic': [],\n",
      "                   'drug': [],\n",
      "                   'family': [],\n",
      "                   'personal': []},\n",
      "    'id': {'$oid': '59e480034a97ca0012ad911f'},\n",
      "    'investigations': [   {'snomed_id': '', 'term': 'S. bilirubin'},\n",
      "                          {'snomed_id': '', 'term': 'SGPT'},\n",
      "                          {'snomed_id': '', 'term': 'Anti HAV'},\n",
      "                          {'snomed_id': '', 'term': 'Anti HEV'},\n",
      "                          {'snomed_id': '', 'term': 'Urine R/M/E'},\n",
      "                          {'snomed_id': '', 'term': 'S.Creatinine'},\n",
      "                          {'snomed_id': '', 'term': 'CBC'},\n",
      "                          {'snomed_id': '', 'term': 'usg of whole abdomen'}],\n",
      "    'medicines': [   {   'additional_instructions': [],\n",
      "                         'dose': [0.0, 0.0, 1.0],\n",
      "                         'drug': {   'brand_name': 'Tablet Azyth (500mg)',\n",
      "                                     'company_name': 'Novartis (Bangladesh) '\n",
      "                                                     'Ltd.',\n",
      "                                     'formulation': 'Tablet',\n",
      "                                     'generic_name': 'Azithromycin',\n",
      "                                     'indication': 'Bacterial infections, '\n",
      "                                                   'bacterial endocarditis, '\n",
      "                                                   'typhoid fever, '\n",
      "                                                   'community-acquired '\n",
      "                                                   'pneumonia, uncomplicated '\n",
      "                                                   'gonorrhea, streptococcal '\n",
      "                                                   'pharyngitis/tonsillitis, '\n",
      "                                                   'COPD, acute bacterial '\n",
      "                                                   'sinusitis, acute otitis '\n",
      "                                                   'media, uncomplicated UTI, '\n",
      "                                                   'Uncomplicated gonorrhea, '\n",
      "                                                   'PID, non-gonococcal '\n",
      "                                                   'urethritis, chancroid, '\n",
      "                                                   'acute salmonellosis, '\n",
      "                                                   'cervicitis, babesiosis, '\n",
      "                                                   'chlamydial infections, '\n",
      "                                                   'pelvic inflammatory '\n",
      "                                                   \"disease, PID, traveler's \"\n",
      "                                                   'diarrhea,',\n",
      "                                     'pack_size': \"6's pack\",\n",
      "                                     'price': '300',\n",
      "                                     'strength': '500mg'},\n",
      "                         'duration': {'type': 'day', 'value': 7.0},\n",
      "                         'instructions': []},\n",
      "                     {   'additional_instructions': [],\n",
      "                         'dose': [0.0, 0.0, 1.0],\n",
      "                         'drug': {   'brand_name': 'Tablet Elfexo 180 (180mg)',\n",
      "                                     'company_name': 'Leon Pharmaceuticals '\n",
      "                                                     'Ltd.',\n",
      "                                     'formulation': 'Tablet',\n",
      "                                     'generic_name': 'Fexofenadine '\n",
      "                                                     'Hydrochloride',\n",
      "                                     'indication': 'Allergic rhinitis, Hay '\n",
      "                                                   'fever, Urticaria, Allergy',\n",
      "                                     'pack_size': '',\n",
      "                                     'price': '',\n",
      "                                     'strength': '180mg'},\n",
      "                         'duration': {'type': 'day', 'value': 7.0},\n",
      "                         'instructions': []},\n",
      "                     {   'additional_instructions': [],\n",
      "                         'dose': [1.0, 1.0, 1.0],\n",
      "                         'drug': {   'brand_name': 'Tablet Napa (500mg)',\n",
      "                                     'company_name': 'Beximco Pharmaceuticals '\n",
      "                                                     'Ltd.',\n",
      "                                     'formulation': 'Tablet',\n",
      "                                     'generic_name': 'Paracetamol',\n",
      "                                     'indication': 'Mild to moderate pain and '\n",
      "                                                   'fever',\n",
      "                                     'pack_size': \"500's pack\",\n",
      "                                     'price': '400',\n",
      "                                     'strength': '500mg'},\n",
      "                         'duration': {'type': None, 'value': None},\n",
      "                         'instructions': [   'ŕ¦–ŕ¦ľŕ¦¬ŕ¦ľŕ¦°  ŕ¦Şŕ¦°ŕ§‡',\n",
      "                                             'ŕ¦śŕ§Ťŕ¦¬ŕ¦° ŕ¦ąŕ¦˛ŕ§‡ '\n",
      "                                             'ŕ¦Şŕ§Ťŕ¦°ŕ§źŕ§‹ŕ¦śŕ¦¨ ŕ¦®ŕ¦¤']},\n",
      "                     {   'additional_instructions': [],\n",
      "                         'dose': [0.0],\n",
      "                         'drug': {   'brand_name': 'Vaginal Tablet Afun VT '\n",
      "                                                   '(100mg)',\n",
      "                                     'company_name': 'Square Pharmaceuticals '\n",
      "                                                     'Ltd.',\n",
      "                                     'formulation': 'Vaginal Tablet',\n",
      "                                     'generic_name': 'Clotrimazole VT',\n",
      "                                     'indication': 'Vaginal itching, burning '\n",
      "                                                   'and discharge associated '\n",
      "                                                   'with recurrent vaginal '\n",
      "                                                   'yeast infections '\n",
      "                                                   'Vulvovaginal candidiasis '\n",
      "                                                   '(Vagonal thrush).',\n",
      "                                     'pack_size': \"6's pack\",\n",
      "                                     'price': '60.25',\n",
      "                                     'strength': '100mg'},\n",
      "                         'duration': {'type': 'day', 'value': 5.0},\n",
      "                         'instructions': [   'ŕ¦®ŕ¦ľŕ¦¸ŕ¦żŕ¦•ŕ§‡ŕ¦° '\n",
      "                                             'ŕ¦°ŕ¦ľŕ¦¸ŕ§Ťŕ¦¤ŕ¦ľŕ§ź ŕ§§ '\n",
      "                                             'ŕ¦źŕ§Ťŕ¦Żŕ¦ľŕ¦¬ŕ¦˛ŕ§‡ŕ¦ź , '\n",
      "                                             'ŕ¦°ŕ¦ľŕ¦¤ŕ§‡ '\n",
      "                                             'ŕ¦�ŕ§�ŕ¦®ŕ¦ľŕ¦¨ŕ§‹ŕ¦° '\n",
      "                                             'ŕ¦†ŕ¦—ŕ§‡']},\n",
      "                     {   'additional_instructions': [],\n",
      "                         'dose': [0.0],\n",
      "                         'drug': {   'brand_name': 'Lotion Calamine',\n",
      "                                     'company_name': 'Amico Laboratories Ltd.',\n",
      "                                     'formulation': 'Lotion',\n",
      "                                     'generic_name': 'Calamine 15% + Zinc '\n",
      "                                                     'Oxide 5%',\n",
      "                                     'indication': 'Pruritus, Discomfort from '\n",
      "                                                   'minor skin irritations '\n",
      "                                                   'such as Poison ivy, Poison '\n",
      "                                                   'oak, Poison sumac. '\n",
      "                                                   'Itching, Psoriasis, '\n",
      "                                                   'eczema, urticaria.',\n",
      "                                     'pack_size': '100ml bot',\n",
      "                                     'price': '38',\n",
      "                                     'strength': ''},\n",
      "                         'duration': {'type': 'day', 'value': 7.0},\n",
      "                         'instructions': [   'ŕ¦†ŕ¦•ŕ§Ťŕ¦°ŕ¦ľŕ¦¨ŕ§Ťŕ¦¤ '\n",
      "                                             'ŕ¦¸ŕ§Ťŕ¦Ąŕ¦ľŕ¦¨ŕ§‡ '\n",
      "                                             'ŕ¦˛ŕ¦ľŕ¦—ŕ¦ľŕ¦¬ŕ§‡ŕ¦¨ '\n",
      "                                             'ŕ¦¦ŕ¦żŕ¦¨ŕ§‡ ŕ§¨ ŕ¦¬ŕ¦ľŕ¦°']}],\n",
      "    'rmp_symptoms': [   {'snomed_id': 712798003, 'term': 'anemia'},\n",
      "                        {'snomed_id': 301471002, 'term': 'tonsils'},\n",
      "                        {'snomed_id': 405729008, 'term': 'stoolandurine'}]}\n",
      "\\ln\n"
     ]
    }
   ],
   "source": [
    "import pprint\n",
    "pp = pprint.PrettyPrinter(indent=4, width=80)\n",
    "presc=sample['prescription']\n",
    "i=0\n",
    "\n",
    "for k in presc.keys():\n",
    "    i=i+1\n",
    "    print('The '+str(i)+' key is '+str(k))\n",
    "    pp.pprint(presc[k])\n",
    "    print('\\ln')\n",
    "    \n",
    "keys=sample['prescription'].tolist()"
   ]
  },
  {
   "cell_type": "code",
   "execution_count": 4,
   "metadata": {},
   "outputs": [
    {
     "data": {
      "text/plain": [
       "['id',\n",
       " 'rmp_symptoms',\n",
       " 'history',\n",
       " 'complaints',\n",
       " 'diagnoses',\n",
       " 'medicines',\n",
       " 'advices',\n",
       " 'investigations',\n",
       " 'consultation_type']"
      ]
     },
     "execution_count": 4,
     "metadata": {},
     "output_type": "execute_result"
    }
   ],
   "source": [
    "keys=sample['prescription'].iloc[0].keys()\n",
    "list_keys = [ k for k in keys ]\n",
    "remove_keys=['consultation_date','consultation_duration','followup_date']\n",
    "for item in remove_keys:\n",
    "    list_keys.remove(item)\n",
    "list_keys"
   ]
  },
  {
   "cell_type": "code",
   "execution_count": 5,
   "metadata": {},
   "outputs": [],
   "source": [
    "#new_list"
   ]
  },
  {
   "cell_type": "code",
   "execution_count": 6,
   "metadata": {},
   "outputs": [
    {
     "data": {
      "text/html": [
       "<div>\n",
       "<style scoped>\n",
       "    .dataframe tbody tr th:only-of-type {\n",
       "        vertical-align: middle;\n",
       "    }\n",
       "\n",
       "    .dataframe tbody tr th {\n",
       "        vertical-align: top;\n",
       "    }\n",
       "\n",
       "    .dataframe thead th {\n",
       "        text-align: right;\n",
       "    }\n",
       "</style>\n",
       "<table border=\"1\" class=\"dataframe\">\n",
       "  <thead>\n",
       "    <tr style=\"text-align: right;\">\n",
       "      <th></th>\n",
       "      <th>id</th>\n",
       "      <th>rmp_symptoms</th>\n",
       "      <th>history</th>\n",
       "      <th>complaints</th>\n",
       "      <th>diagnoses</th>\n",
       "      <th>medicines</th>\n",
       "      <th>advices</th>\n",
       "      <th>investigations</th>\n",
       "      <th>consultation_type</th>\n",
       "    </tr>\n",
       "  </thead>\n",
       "  <tbody>\n",
       "    <tr>\n",
       "      <th>0</th>\n",
       "      <td>{'$oid': '59e480034a97ca0012ad911f'}</td>\n",
       "      <td>[{'snomed_id': 712798003, 'term': 'anemia'}, {...</td>\n",
       "      <td>{'family': [], 'personal': [], 'drug': [], 'ch...</td>\n",
       "      <td>[{'symptom': {'snomed_id': 386661006, 'term': ...</td>\n",
       "      <td>{'provisional': [{'snomed_id': None, 'term': '...</td>\n",
       "      <td>[{'drug': {'brand_name': 'Tablet Azyth (500mg)...</td>\n",
       "      <td>[{'snomed_id': '', 'term': 'ŕ¦¨ŕ¦żŕ§źŕ¦®ŕ¦żŕ¦¤...</td>\n",
       "      <td>[{'snomed_id': '', 'term': 'S. bilirubin'}, {'...</td>\n",
       "      <td>{'is_followup': False, 'is_referred': False, '...</td>\n",
       "    </tr>\n",
       "  </tbody>\n",
       "</table>\n",
       "</div>"
      ],
      "text/plain": [
       "                                     id  \\\n",
       "0  {'$oid': '59e480034a97ca0012ad911f'}   \n",
       "\n",
       "                                        rmp_symptoms  \\\n",
       "0  [{'snomed_id': 712798003, 'term': 'anemia'}, {...   \n",
       "\n",
       "                                             history  \\\n",
       "0  {'family': [], 'personal': [], 'drug': [], 'ch...   \n",
       "\n",
       "                                          complaints  \\\n",
       "0  [{'symptom': {'snomed_id': 386661006, 'term': ...   \n",
       "\n",
       "                                           diagnoses  \\\n",
       "0  {'provisional': [{'snomed_id': None, 'term': '...   \n",
       "\n",
       "                                           medicines  \\\n",
       "0  [{'drug': {'brand_name': 'Tablet Azyth (500mg)...   \n",
       "\n",
       "                                             advices  \\\n",
       "0  [{'snomed_id': '', 'term': 'ŕ¦¨ŕ¦żŕ§źŕ¦®ŕ¦żŕ¦¤...   \n",
       "\n",
       "                                      investigations  \\\n",
       "0  [{'snomed_id': '', 'term': 'S. bilirubin'}, {'...   \n",
       "\n",
       "                                   consultation_type  \n",
       "0  {'is_followup': False, 'is_referred': False, '...  "
      ]
     },
     "execution_count": 6,
     "metadata": {},
     "output_type": "execute_result"
    }
   ],
   "source": [
    "presc = pd.DataFrame.from_records(sample['prescription'], columns=list_keys)\n",
    "presc"
   ]
  },
  {
   "cell_type": "code",
   "execution_count": 7,
   "metadata": {},
   "outputs": [
    {
     "name": "stdout",
     "output_type": "stream",
     "text": [
      "Key is id and depth is 1\n",
      "Key is rmp_symptoms and depth is 3\n",
      "Key is history and depth is 5\n",
      "Key is complaints and depth is 6\n",
      "Key is diagnoses and depth is 3\n",
      "Key is medicines and depth is 5\n",
      "Key is advices and depth is 2\n",
      "Key is investigations and depth is 8\n",
      "Key is consultation_type and depth is 3\n"
     ]
    }
   ],
   "source": [
    "for item in list_keys:\n",
    "    #print((len(presc[item][0])))\n",
    "    #print(\"Total score for %s is %s\" % (name, score))\n",
    "    depth=(len(presc[item][0]))\n",
    "    print(\"Key is %s and depth is %s\" % (item,depth))"
   ]
  },
  {
   "cell_type": "code",
   "execution_count": 8,
   "metadata": {},
   "outputs": [
    {
     "name": "stdout",
     "output_type": "stream",
     "text": [
      "{'symptom': {'snomed_id': 386661006, 'term': 'Fever'}, 'detail': '', 'situation': None, 'duration': {'value': 1.0, 'type': 'month'}}\n",
      "{'symptom': {'snomed_id': None, 'term': 'yellowish discolouration of eyes and urine'}, 'detail': '', 'situation': None, 'duration': {'value': None, 'type': None}}\n",
      "{'symptom': {'snomed_id': '49650001', 'term': 'pain & burning during micturaion'}, 'detail': '', 'situation': None, 'duration': {'value': None, 'type': None}}\n",
      "{'symptom': {'snomed_id': 422587007, 'term': 'Nausea'}, 'detail': '', 'situation': None, 'duration': {'value': None, 'type': None}}\n",
      "{'symptom': {'snomed_id': 418290006, 'term': 'Itching'}, 'detail': '', 'situation': None, 'duration': {'value': None, 'type': None}}\n",
      "{'symptom': {'snomed_id': 14302001, 'term': 'Amenorrhoea'}, 'detail': 'after delivery no manustration occur', 'situation': None, 'duration': {'value': 16.0, 'type': 'month'}}\n"
     ]
    }
   ],
   "source": [
    "for i in range(0,6):\n",
    "    print(presc['complaints'][0][i])"
   ]
  },
  {
   "cell_type": "code",
   "execution_count": 9,
   "metadata": {},
   "outputs": [
    {
     "data": {
      "text/plain": [
       "[{'symptom': {'snomed_id': 386661006, 'term': 'Fever'},\n",
       "  'detail': '',\n",
       "  'situation': None,\n",
       "  'duration': {'value': 1.0, 'type': 'month'}},\n",
       " {'symptom': {'snomed_id': None,\n",
       "   'term': 'yellowish discolouration of eyes and urine'},\n",
       "  'detail': '',\n",
       "  'situation': None,\n",
       "  'duration': {'value': None, 'type': None}},\n",
       " {'symptom': {'snomed_id': '49650001',\n",
       "   'term': 'pain & burning during micturaion'},\n",
       "  'detail': '',\n",
       "  'situation': None,\n",
       "  'duration': {'value': None, 'type': None}},\n",
       " {'symptom': {'snomed_id': 422587007, 'term': 'Nausea'},\n",
       "  'detail': '',\n",
       "  'situation': None,\n",
       "  'duration': {'value': None, 'type': None}},\n",
       " {'symptom': {'snomed_id': 418290006, 'term': 'Itching'},\n",
       "  'detail': '',\n",
       "  'situation': None,\n",
       "  'duration': {'value': None, 'type': None}},\n",
       " {'symptom': {'snomed_id': 14302001, 'term': 'Amenorrhoea'},\n",
       "  'detail': 'after delivery no manustration occur',\n",
       "  'situation': None,\n",
       "  'duration': {'value': 16.0, 'type': 'month'}}]"
      ]
     },
     "execution_count": 9,
     "metadata": {},
     "output_type": "execute_result"
    }
   ],
   "source": [
    "presc[\"complaints\"][0]"
   ]
  },
  {
   "cell_type": "code",
   "execution_count": 10,
   "metadata": {},
   "outputs": [
    {
     "data": {
      "text/plain": [
       "{'symptom': {'snomed_id': 386661006, 'term': 'Fever'},\n",
       " 'detail': '',\n",
       " 'situation': None,\n",
       " 'duration': {'value': 1.0, 'type': 'month'}}"
      ]
     },
     "execution_count": 10,
     "metadata": {},
     "output_type": "execute_result"
    }
   ],
   "source": [
    "presc[\"complaints\"][0][0]"
   ]
  },
  {
   "cell_type": "code",
   "execution_count": 11,
   "metadata": {},
   "outputs": [
    {
     "data": {
      "text/plain": [
       "{'symptom': {'snomed_id': 386661006, 'term': 'Fever'},\n",
       " 'detail': '',\n",
       " 'situation': None,\n",
       " 'duration': {'value': 1.0, 'type': 'month'}}"
      ]
     },
     "execution_count": 11,
     "metadata": {},
     "output_type": "execute_result"
    }
   ],
   "source": [
    "presc[\"complaints\"][0][0]"
   ]
  },
  {
   "cell_type": "code",
   "execution_count": 12,
   "metadata": {},
   "outputs": [
    {
     "data": {
      "text/plain": [
       "4"
      ]
     },
     "execution_count": 12,
     "metadata": {},
     "output_type": "execute_result"
    }
   ],
   "source": [
    "len(presc[\"complaints\"][0][0])"
   ]
  },
  {
   "cell_type": "code",
   "execution_count": 13,
   "metadata": {},
   "outputs": [
    {
     "name": "stdout",
     "output_type": "stream",
     "text": [
      "{'snomed_id': '', 'term': 'S. bilirubin'}\n",
      "{'snomed_id': '', 'term': 'SGPT'}\n",
      "{'snomed_id': '', 'term': 'Anti HAV'}\n",
      "{'snomed_id': '', 'term': 'Anti HEV'}\n",
      "{'snomed_id': '', 'term': 'Urine R/M/E'}\n",
      "{'snomed_id': '', 'term': 'S.Creatinine'}\n"
     ]
    }
   ],
   "source": [
    "for i in range(0,6):\n",
    "    print(presc['investigations'][0][i])"
   ]
  },
  {
   "cell_type": "code",
   "execution_count": 14,
   "metadata": {},
   "outputs": [
    {
     "name": "stdout",
     "output_type": "stream",
     "text": [
      "Index(['investigations'], dtype='object')\n"
     ]
    }
   ],
   "source": [
    "df = presc['investigations'].to_frame()\n",
    "print(df.columns)"
   ]
  },
  {
   "cell_type": "code",
   "execution_count": 15,
   "metadata": {},
   "outputs": [
    {
     "data": {
      "text/html": [
       "<div>\n",
       "<style scoped>\n",
       "    .dataframe tbody tr th:only-of-type {\n",
       "        vertical-align: middle;\n",
       "    }\n",
       "\n",
       "    .dataframe tbody tr th {\n",
       "        vertical-align: top;\n",
       "    }\n",
       "\n",
       "    .dataframe thead th {\n",
       "        text-align: right;\n",
       "    }\n",
       "</style>\n",
       "<table border=\"1\" class=\"dataframe\">\n",
       "  <thead>\n",
       "    <tr style=\"text-align: right;\">\n",
       "      <th></th>\n",
       "      <th>investigations</th>\n",
       "    </tr>\n",
       "  </thead>\n",
       "  <tbody>\n",
       "    <tr>\n",
       "      <th>0</th>\n",
       "      <td>[{'snomed_id': '', 'term': 'S. bilirubin'}, {'...</td>\n",
       "    </tr>\n",
       "  </tbody>\n",
       "</table>\n",
       "</div>"
      ],
      "text/plain": [
       "                                      investigations\n",
       "0  [{'snomed_id': '', 'term': 'S. bilirubin'}, {'..."
      ]
     },
     "execution_count": 15,
     "metadata": {},
     "output_type": "execute_result"
    }
   ],
   "source": [
    "df"
   ]
  },
  {
   "cell_type": "code",
   "execution_count": 16,
   "metadata": {},
   "outputs": [
    {
     "data": {
      "text/html": [
       "<div>\n",
       "<style scoped>\n",
       "    .dataframe tbody tr th:only-of-type {\n",
       "        vertical-align: middle;\n",
       "    }\n",
       "\n",
       "    .dataframe tbody tr th {\n",
       "        vertical-align: top;\n",
       "    }\n",
       "\n",
       "    .dataframe thead th {\n",
       "        text-align: right;\n",
       "    }\n",
       "</style>\n",
       "<table border=\"1\" class=\"dataframe\">\n",
       "  <thead>\n",
       "    <tr style=\"text-align: right;\">\n",
       "      <th></th>\n",
       "      <th>investigations</th>\n",
       "    </tr>\n",
       "  </thead>\n",
       "  <tbody>\n",
       "    <tr>\n",
       "      <th>0</th>\n",
       "      <td>[{'snomed_id': '', 'term': 'S. bilirubin'}, {'...</td>\n",
       "    </tr>\n",
       "  </tbody>\n",
       "</table>\n",
       "</div>"
      ],
      "text/plain": [
       "                                      investigations\n",
       "0  [{'snomed_id': '', 'term': 'S. bilirubin'}, {'..."
      ]
     },
     "execution_count": 16,
     "metadata": {},
     "output_type": "execute_result"
    }
   ],
   "source": [
    "df.columns = df.columns.map(lambda x: x.split(\".\")[0])\n",
    "df"
   ]
  },
  {
   "cell_type": "code",
   "execution_count": 17,
   "metadata": {},
   "outputs": [
    {
     "name": "stdout",
     "output_type": "stream",
     "text": [
      "{'snomed_id': '', 'term': 'S. bilirubin'}\n",
      "{'snomed_id': '', 'term': 'SGPT'}\n",
      "{'snomed_id': '', 'term': 'Anti HAV'}\n",
      "{'snomed_id': '', 'term': 'Anti HEV'}\n",
      "{'snomed_id': '', 'term': 'Urine R/M/E'}\n",
      "{'snomed_id': '', 'term': 'S.Creatinine'}\n"
     ]
    }
   ],
   "source": [
    "for i in range(0,6):\n",
    "    print(presc['investigations'][0][i])"
   ]
  },
  {
   "cell_type": "code",
   "execution_count": 18,
   "metadata": {},
   "outputs": [
    {
     "name": "stdout",
     "output_type": "stream",
     "text": [
      "{'drug': {'brand_name': 'Tablet Azyth (500mg)', 'generic_name': 'Azithromycin', 'company_name': 'Novartis (Bangladesh) Ltd.', 'strength': '500mg', 'formulation': 'Tablet', 'indication': \"Bacterial infections, bacterial endocarditis, typhoid fever, community-acquired pneumonia, uncomplicated gonorrhea, streptococcal pharyngitis/tonsillitis, COPD, acute bacterial sinusitis, acute otitis media, uncomplicated UTI, Uncomplicated gonorrhea, PID, non-gonococcal urethritis, chancroid, acute salmonellosis, cervicitis, babesiosis, chlamydial infections, pelvic inflammatory disease, PID, traveler's diarrhea,\", 'pack_size': \"6's pack\", 'price': '300'}, 'dose': [0.0, 0.0, 1.0], 'duration': {'value': 7.0, 'type': 'day'}, 'instructions': [], 'additional_instructions': []}\n",
      "{'drug': {'brand_name': 'Tablet Elfexo 180 (180mg)', 'generic_name': 'Fexofenadine Hydrochloride', 'company_name': 'Leon Pharmaceuticals Ltd.', 'strength': '180mg', 'formulation': 'Tablet', 'indication': 'Allergic rhinitis, Hay fever, Urticaria, Allergy', 'pack_size': '', 'price': ''}, 'dose': [0.0, 0.0, 1.0], 'duration': {'value': 7.0, 'type': 'day'}, 'instructions': [], 'additional_instructions': []}\n",
      "{'drug': {'brand_name': 'Tablet Napa (500mg)', 'generic_name': 'Paracetamol', 'company_name': 'Beximco Pharmaceuticals Ltd.', 'strength': '500mg', 'formulation': 'Tablet', 'indication': 'Mild to moderate pain and fever', 'pack_size': \"500's pack\", 'price': '400'}, 'dose': [1.0, 1.0, 1.0], 'duration': {'value': None, 'type': None}, 'instructions': ['ŕ¦–ŕ¦ľŕ¦¬ŕ¦ľŕ¦°  ŕ¦Şŕ¦°ŕ§‡', 'ŕ¦śŕ§Ťŕ¦¬ŕ¦° ŕ¦ąŕ¦˛ŕ§‡ ŕ¦Şŕ§Ťŕ¦°ŕ§źŕ§‹ŕ¦śŕ¦¨ ŕ¦®ŕ¦¤'], 'additional_instructions': []}\n",
      "{'drug': {'brand_name': 'Vaginal Tablet Afun VT (100mg)', 'generic_name': 'Clotrimazole VT', 'company_name': 'Square Pharmaceuticals Ltd.', 'strength': '100mg', 'formulation': 'Vaginal Tablet', 'indication': 'Vaginal itching, burning and discharge associated with recurrent vaginal yeast infections Vulvovaginal candidiasis (Vagonal thrush).', 'pack_size': \"6's pack\", 'price': '60.25'}, 'dose': [0.0], 'duration': {'value': 5.0, 'type': 'day'}, 'instructions': ['ŕ¦®ŕ¦ľŕ¦¸ŕ¦żŕ¦•ŕ§‡ŕ¦° ŕ¦°ŕ¦ľŕ¦¸ŕ§Ťŕ¦¤ŕ¦ľŕ§ź ŕ§§ ŕ¦źŕ§Ťŕ¦Żŕ¦ľŕ¦¬ŕ¦˛ŕ§‡ŕ¦ź , ŕ¦°ŕ¦ľŕ¦¤ŕ§‡ ŕ¦�ŕ§�ŕ¦®ŕ¦ľŕ¦¨ŕ§‹ŕ¦° ŕ¦†ŕ¦—ŕ§‡'], 'additional_instructions': []}\n",
      "{'drug': {'brand_name': 'Lotion Calamine', 'generic_name': 'Calamine 15% + Zinc Oxide 5%', 'company_name': 'Amico Laboratories Ltd.', 'strength': '', 'formulation': 'Lotion', 'indication': 'Pruritus, Discomfort from minor skin irritations such as Poison ivy, Poison oak, Poison sumac. Itching, Psoriasis, eczema, urticaria.', 'pack_size': '100ml bot', 'price': '38'}, 'dose': [0.0], 'duration': {'value': 7.0, 'type': 'day'}, 'instructions': ['ŕ¦†ŕ¦•ŕ§Ťŕ¦°ŕ¦ľŕ¦¨ŕ§Ťŕ¦¤ ŕ¦¸ŕ§Ťŕ¦Ąŕ¦ľŕ¦¨ŕ§‡ ŕ¦˛ŕ¦ľŕ¦—ŕ¦ľŕ¦¬ŕ§‡ŕ¦¨ ŕ¦¦ŕ¦żŕ¦¨ŕ§‡ ŕ§¨ ŕ¦¬ŕ¦ľŕ¦°'], 'additional_instructions': []}\n"
     ]
    }
   ],
   "source": [
    "for i in range(0,5):\n",
    "    print(presc['medicines'][0][i])"
   ]
  },
  {
   "cell_type": "code",
   "execution_count": 19,
   "metadata": {},
   "outputs": [],
   "source": [
    "#len(presc[\"duration\"][0])"
   ]
  },
  {
   "cell_type": "code",
   "execution_count": 20,
   "metadata": {},
   "outputs": [
    {
     "data": {
      "text/plain": [
       "2"
      ]
     },
     "execution_count": 20,
     "metadata": {},
     "output_type": "execute_result"
    }
   ],
   "source": [
    "len(presc[\"complaints\"][0][0][\"duration\"])"
   ]
  },
  {
   "cell_type": "code",
   "execution_count": 22,
   "metadata": {},
   "outputs": [],
   "source": [
    "prescr_corpus_full = pd.read_json('prescription-corpus-sample-2012-12-08.json')"
   ]
  },
  {
   "cell_type": "code",
   "execution_count": 23,
   "metadata": {},
   "outputs": [
    {
     "data": {
      "text/plain": [
       "range(0, 12)"
      ]
     },
     "execution_count": 23,
     "metadata": {},
     "output_type": "execute_result"
    }
   ],
   "source": [
    "list_items = []\n",
    "presc_items = len(list(prescr_corpus_full['prescription'].iloc[0].items()))\n",
    "range(presc_items)"
   ]
  },
  {
   "cell_type": "code",
   "execution_count": 26,
   "metadata": {},
   "outputs": [
    {
     "data": {
      "text/plain": [
       "dict_items([('id', {'$oid': '59e480034a97ca0012ad911f'}), ('rmp_symptoms', [{'snomed_id': 712798003, 'term': 'anemia'}, {'snomed_id': 301471002, 'term': 'tonsils'}, {'snomed_id': 405729008, 'term': 'stoolandurine'}]), ('history', {'family': [], 'personal': [], 'drug': [], 'chronic': [], 'allergy': []}), ('complaints', [{'symptom': {'snomed_id': 386661006, 'term': 'Fever'}, 'detail': '', 'situation': None, 'duration': {'value': 1.0, 'type': 'month'}}, {'symptom': {'snomed_id': None, 'term': 'yellowish discolouration of eyes and urine'}, 'detail': '', 'situation': None, 'duration': {'value': None, 'type': None}}, {'symptom': {'snomed_id': '49650001', 'term': 'pain & burning during micturaion'}, 'detail': '', 'situation': None, 'duration': {'value': None, 'type': None}}, {'symptom': {'snomed_id': 422587007, 'term': 'Nausea'}, 'detail': '', 'situation': None, 'duration': {'value': None, 'type': None}}, {'symptom': {'snomed_id': 418290006, 'term': 'Itching'}, 'detail': '', 'situation': None, 'duration': {'value': None, 'type': None}}, {'symptom': {'snomed_id': 14302001, 'term': 'Amenorrhoea'}, 'detail': 'after delivery no manustration occur', 'situation': None, 'duration': {'value': 16.0, 'type': 'month'}}]), ('diagnoses', {'provisional': [{'snomed_id': None, 'term': 'jaundice under evaluation'}, {'snomed_id': None, 'term': 'UTI'}, {'snomed_id': '72934000', 'term': 'vaginal candidiasis'}, {'snomed_id': None, 'term': 'Chicken pox'}], 'differential': [], 'final': []}), ('medicines', [{'drug': {'brand_name': 'Tablet Azyth (500mg)', 'generic_name': 'Azithromycin', 'company_name': 'Novartis (Bangladesh) Ltd.', 'strength': '500mg', 'formulation': 'Tablet', 'indication': \"Bacterial infections, bacterial endocarditis, typhoid fever, community-acquired pneumonia, uncomplicated gonorrhea, streptococcal pharyngitis/tonsillitis, COPD, acute bacterial sinusitis, acute otitis media, uncomplicated UTI, Uncomplicated gonorrhea, PID, non-gonococcal urethritis, chancroid, acute salmonellosis, cervicitis, babesiosis, chlamydial infections, pelvic inflammatory disease, PID, traveler's diarrhea,\", 'pack_size': \"6's pack\", 'price': '300'}, 'dose': [0.0, 0.0, 1.0], 'duration': {'value': 7.0, 'type': 'day'}, 'instructions': [], 'additional_instructions': []}, {'drug': {'brand_name': 'Tablet Elfexo 180 (180mg)', 'generic_name': 'Fexofenadine Hydrochloride', 'company_name': 'Leon Pharmaceuticals Ltd.', 'strength': '180mg', 'formulation': 'Tablet', 'indication': 'Allergic rhinitis, Hay fever, Urticaria, Allergy', 'pack_size': '', 'price': ''}, 'dose': [0.0, 0.0, 1.0], 'duration': {'value': 7.0, 'type': 'day'}, 'instructions': [], 'additional_instructions': []}, {'drug': {'brand_name': 'Tablet Napa (500mg)', 'generic_name': 'Paracetamol', 'company_name': 'Beximco Pharmaceuticals Ltd.', 'strength': '500mg', 'formulation': 'Tablet', 'indication': 'Mild to moderate pain and fever', 'pack_size': \"500's pack\", 'price': '400'}, 'dose': [1.0, 1.0, 1.0], 'duration': {'value': None, 'type': None}, 'instructions': ['ŕ¦–ŕ¦ľŕ¦¬ŕ¦ľŕ¦°  ŕ¦Şŕ¦°ŕ§‡', 'ŕ¦śŕ§Ťŕ¦¬ŕ¦° ŕ¦ąŕ¦˛ŕ§‡ ŕ¦Şŕ§Ťŕ¦°ŕ§źŕ§‹ŕ¦śŕ¦¨ ŕ¦®ŕ¦¤'], 'additional_instructions': []}, {'drug': {'brand_name': 'Vaginal Tablet Afun VT (100mg)', 'generic_name': 'Clotrimazole VT', 'company_name': 'Square Pharmaceuticals Ltd.', 'strength': '100mg', 'formulation': 'Vaginal Tablet', 'indication': 'Vaginal itching, burning and discharge associated with recurrent vaginal yeast infections Vulvovaginal candidiasis (Vagonal thrush).', 'pack_size': \"6's pack\", 'price': '60.25'}, 'dose': [0.0], 'duration': {'value': 5.0, 'type': 'day'}, 'instructions': ['ŕ¦®ŕ¦ľŕ¦¸ŕ¦żŕ¦•ŕ§‡ŕ¦° ŕ¦°ŕ¦ľŕ¦¸ŕ§Ťŕ¦¤ŕ¦ľŕ§ź ŕ§§ ŕ¦źŕ§Ťŕ¦Żŕ¦ľŕ¦¬ŕ¦˛ŕ§‡ŕ¦ź , ŕ¦°ŕ¦ľŕ¦¤ŕ§‡ ŕ¦�ŕ§�ŕ¦®ŕ¦ľŕ¦¨ŕ§‹ŕ¦° ŕ¦†ŕ¦—ŕ§‡'], 'additional_instructions': []}, {'drug': {'brand_name': 'Lotion Calamine', 'generic_name': 'Calamine 15% + Zinc Oxide 5%', 'company_name': 'Amico Laboratories Ltd.', 'strength': '', 'formulation': 'Lotion', 'indication': 'Pruritus, Discomfort from minor skin irritations such as Poison ivy, Poison oak, Poison sumac. Itching, Psoriasis, eczema, urticaria.', 'pack_size': '100ml bot', 'price': '38'}, 'dose': [0.0], 'duration': {'value': 7.0, 'type': 'day'}, 'instructions': ['ŕ¦†ŕ¦•ŕ§Ťŕ¦°ŕ¦ľŕ¦¨ŕ§Ťŕ¦¤ ŕ¦¸ŕ§Ťŕ¦Ąŕ¦ľŕ¦¨ŕ§‡ ŕ¦˛ŕ¦ľŕ¦—ŕ¦ľŕ¦¬ŕ§‡ŕ¦¨ ŕ¦¦ŕ¦żŕ¦¨ŕ§‡ ŕ§¨ ŕ¦¬ŕ¦ľŕ¦°'], 'additional_instructions': []}]), ('advices', [{'snomed_id': '', 'term': 'ŕ¦¨ŕ¦żŕ§źŕ¦®ŕ¦żŕ¦¤ ŕ¦“ŕ¦·ŕ§�ŕ¦§ ŕ¦–ŕ¦ľŕ¦¬ŕ§‡ŕ¦¨'}, {'snomed_id': '', 'term': 'ŕ¦śŕ¦¨ŕ§Ťŕ¦ˇŕ¦żŕ¦¸ ŕ¦¨ŕ¦ľ ŕ¦•ŕ¦®ŕ¦˛ŕ§‡ ŕ¦¨ŕ¦żŕ¦•ŕ¦źŕ¦¬ŕ¦°ŕ§Ťŕ¦¤ŕ§€ ŕ¦Ąŕ¦ľŕ¦¨ŕ¦ľ ŕ¦¸ŕ§Ťŕ¦¬ŕ¦ľŕ¦¸ŕ§Ťŕ¦Ą ŕ¦•ŕ¦®ŕ¦Şŕ§Ťŕ¦˛ŕ§‡ŕ¦•ŕ§Ťŕ¦¸ŕ§‡ ŕ¦¦ŕ§‡ŕ¦–ŕ¦ľ ŕ¦•ŕ¦°ŕ¦¬ŕ§‡ŕ¦¨'}]), ('investigations', [{'snomed_id': '', 'term': 'S. bilirubin'}, {'snomed_id': '', 'term': 'SGPT'}, {'snomed_id': '', 'term': 'Anti HAV'}, {'snomed_id': '', 'term': 'Anti HEV'}, {'snomed_id': '', 'term': 'Urine R/M/E'}, {'snomed_id': '', 'term': 'S.Creatinine'}, {'snomed_id': '', 'term': 'CBC'}, {'snomed_id': '', 'term': 'usg of whole abdomen'}]), ('consultation_date', '2017-10-16T10:18:32.627+0000'), ('consultation_duration', 1773), ('consultation_type', {'is_followup': False, 'is_referred': False, 'is_free': False}), ('followup_date', '2017-10-22T18:00:00.000+0000')])"
      ]
     },
     "execution_count": 26,
     "metadata": {},
     "output_type": "execute_result"
    }
   ],
   "source": [
    "prescr_corpus_full['prescription'].iloc[0].items()"
   ]
  },
  {
   "cell_type": "code",
   "execution_count": 28,
   "metadata": {},
   "outputs": [
    {
     "data": {
      "text/plain": [
       "[[('id', {'$oid': '59e480034a97ca0012ad911f'}),\n",
       "  ('rmp_symptoms',\n",
       "   [{'snomed_id': 712798003, 'term': 'anemia'},\n",
       "    {'snomed_id': 301471002, 'term': 'tonsils'},\n",
       "    {'snomed_id': 405729008, 'term': 'stoolandurine'}]),\n",
       "  ('history',\n",
       "   {'family': [], 'personal': [], 'drug': [], 'chronic': [], 'allergy': []}),\n",
       "  ('complaints',\n",
       "   [{'symptom': {'snomed_id': 386661006, 'term': 'Fever'},\n",
       "     'detail': '',\n",
       "     'situation': None,\n",
       "     'duration': {'value': 1.0, 'type': 'month'}},\n",
       "    {'symptom': {'snomed_id': None,\n",
       "      'term': 'yellowish discolouration of eyes and urine'},\n",
       "     'detail': '',\n",
       "     'situation': None,\n",
       "     'duration': {'value': None, 'type': None}},\n",
       "    {'symptom': {'snomed_id': '49650001',\n",
       "      'term': 'pain & burning during micturaion'},\n",
       "     'detail': '',\n",
       "     'situation': None,\n",
       "     'duration': {'value': None, 'type': None}},\n",
       "    {'symptom': {'snomed_id': 422587007, 'term': 'Nausea'},\n",
       "     'detail': '',\n",
       "     'situation': None,\n",
       "     'duration': {'value': None, 'type': None}},\n",
       "    {'symptom': {'snomed_id': 418290006, 'term': 'Itching'},\n",
       "     'detail': '',\n",
       "     'situation': None,\n",
       "     'duration': {'value': None, 'type': None}},\n",
       "    {'symptom': {'snomed_id': 14302001, 'term': 'Amenorrhoea'},\n",
       "     'detail': 'after delivery no manustration occur',\n",
       "     'situation': None,\n",
       "     'duration': {'value': 16.0, 'type': 'month'}}]),\n",
       "  ('diagnoses',\n",
       "   {'provisional': [{'snomed_id': None, 'term': 'jaundice under evaluation'},\n",
       "     {'snomed_id': None, 'term': 'UTI'},\n",
       "     {'snomed_id': '72934000', 'term': 'vaginal candidiasis'},\n",
       "     {'snomed_id': None, 'term': 'Chicken pox'}],\n",
       "    'differential': [],\n",
       "    'final': []}),\n",
       "  ('medicines',\n",
       "   [{'drug': {'brand_name': 'Tablet Azyth (500mg)',\n",
       "      'generic_name': 'Azithromycin',\n",
       "      'company_name': 'Novartis (Bangladesh) Ltd.',\n",
       "      'strength': '500mg',\n",
       "      'formulation': 'Tablet',\n",
       "      'indication': \"Bacterial infections, bacterial endocarditis, typhoid fever, community-acquired pneumonia, uncomplicated gonorrhea, streptococcal pharyngitis/tonsillitis, COPD, acute bacterial sinusitis, acute otitis media, uncomplicated UTI, Uncomplicated gonorrhea, PID, non-gonococcal urethritis, chancroid, acute salmonellosis, cervicitis, babesiosis, chlamydial infections, pelvic inflammatory disease, PID, traveler's diarrhea,\",\n",
       "      'pack_size': \"6's pack\",\n",
       "      'price': '300'},\n",
       "     'dose': [0.0, 0.0, 1.0],\n",
       "     'duration': {'value': 7.0, 'type': 'day'},\n",
       "     'instructions': [],\n",
       "     'additional_instructions': []},\n",
       "    {'drug': {'brand_name': 'Tablet Elfexo 180 (180mg)',\n",
       "      'generic_name': 'Fexofenadine Hydrochloride',\n",
       "      'company_name': 'Leon Pharmaceuticals Ltd.',\n",
       "      'strength': '180mg',\n",
       "      'formulation': 'Tablet',\n",
       "      'indication': 'Allergic rhinitis, Hay fever, Urticaria, Allergy',\n",
       "      'pack_size': '',\n",
       "      'price': ''},\n",
       "     'dose': [0.0, 0.0, 1.0],\n",
       "     'duration': {'value': 7.0, 'type': 'day'},\n",
       "     'instructions': [],\n",
       "     'additional_instructions': []},\n",
       "    {'drug': {'brand_name': 'Tablet Napa (500mg)',\n",
       "      'generic_name': 'Paracetamol',\n",
       "      'company_name': 'Beximco Pharmaceuticals Ltd.',\n",
       "      'strength': '500mg',\n",
       "      'formulation': 'Tablet',\n",
       "      'indication': 'Mild to moderate pain and fever',\n",
       "      'pack_size': \"500's pack\",\n",
       "      'price': '400'},\n",
       "     'dose': [1.0, 1.0, 1.0],\n",
       "     'duration': {'value': None, 'type': None},\n",
       "     'instructions': ['ŕ¦–ŕ¦ľŕ¦¬ŕ¦ľŕ¦°  ŕ¦Şŕ¦°ŕ§‡',\n",
       "      'ŕ¦śŕ§Ťŕ¦¬ŕ¦° ŕ¦ąŕ¦˛ŕ§‡ ŕ¦Şŕ§Ťŕ¦°ŕ§źŕ§‹ŕ¦śŕ¦¨ ŕ¦®ŕ¦¤'],\n",
       "     'additional_instructions': []},\n",
       "    {'drug': {'brand_name': 'Vaginal Tablet Afun VT (100mg)',\n",
       "      'generic_name': 'Clotrimazole VT',\n",
       "      'company_name': 'Square Pharmaceuticals Ltd.',\n",
       "      'strength': '100mg',\n",
       "      'formulation': 'Vaginal Tablet',\n",
       "      'indication': 'Vaginal itching, burning and discharge associated with recurrent vaginal yeast infections Vulvovaginal candidiasis (Vagonal thrush).',\n",
       "      'pack_size': \"6's pack\",\n",
       "      'price': '60.25'},\n",
       "     'dose': [0.0],\n",
       "     'duration': {'value': 5.0, 'type': 'day'},\n",
       "     'instructions': ['ŕ¦®ŕ¦ľŕ¦¸ŕ¦żŕ¦•ŕ§‡ŕ¦° ŕ¦°ŕ¦ľŕ¦¸ŕ§Ťŕ¦¤ŕ¦ľŕ§ź ŕ§§ ŕ¦źŕ§Ťŕ¦Żŕ¦ľŕ¦¬ŕ¦˛ŕ§‡ŕ¦ź , ŕ¦°ŕ¦ľŕ¦¤ŕ§‡ ŕ¦�ŕ§�ŕ¦®ŕ¦ľŕ¦¨ŕ§‹ŕ¦° ŕ¦†ŕ¦—ŕ§‡'],\n",
       "     'additional_instructions': []},\n",
       "    {'drug': {'brand_name': 'Lotion Calamine',\n",
       "      'generic_name': 'Calamine 15% + Zinc Oxide 5%',\n",
       "      'company_name': 'Amico Laboratories Ltd.',\n",
       "      'strength': '',\n",
       "      'formulation': 'Lotion',\n",
       "      'indication': 'Pruritus, Discomfort from minor skin irritations such as Poison ivy, Poison oak, Poison sumac. Itching, Psoriasis, eczema, urticaria.',\n",
       "      'pack_size': '100ml bot',\n",
       "      'price': '38'},\n",
       "     'dose': [0.0],\n",
       "     'duration': {'value': 7.0, 'type': 'day'},\n",
       "     'instructions': ['ŕ¦†ŕ¦•ŕ§Ťŕ¦°ŕ¦ľŕ¦¨ŕ§Ťŕ¦¤ ŕ¦¸ŕ§Ťŕ¦Ąŕ¦ľŕ¦¨ŕ§‡ ŕ¦˛ŕ¦ľŕ¦—ŕ¦ľŕ¦¬ŕ§‡ŕ¦¨ ŕ¦¦ŕ¦żŕ¦¨ŕ§‡ ŕ§¨ ŕ¦¬ŕ¦ľŕ¦°'],\n",
       "     'additional_instructions': []}]),\n",
       "  ('advices',\n",
       "   [{'snomed_id': '',\n",
       "     'term': 'ŕ¦¨ŕ¦żŕ§źŕ¦®ŕ¦żŕ¦¤ ŕ¦“ŕ¦·ŕ§�ŕ¦§ ŕ¦–ŕ¦ľŕ¦¬ŕ§‡ŕ¦¨'},\n",
       "    {'snomed_id': '',\n",
       "     'term': 'ŕ¦śŕ¦¨ŕ§Ťŕ¦ˇŕ¦żŕ¦¸ ŕ¦¨ŕ¦ľ ŕ¦•ŕ¦®ŕ¦˛ŕ§‡ ŕ¦¨ŕ¦żŕ¦•ŕ¦źŕ¦¬ŕ¦°ŕ§Ťŕ¦¤ŕ§€ ŕ¦Ąŕ¦ľŕ¦¨ŕ¦ľ ŕ¦¸ŕ§Ťŕ¦¬ŕ¦ľŕ¦¸ŕ§Ťŕ¦Ą ŕ¦•ŕ¦®ŕ¦Şŕ§Ťŕ¦˛ŕ§‡ŕ¦•ŕ§Ťŕ¦¸ŕ§‡ ŕ¦¦ŕ§‡ŕ¦–ŕ¦ľ ŕ¦•ŕ¦°ŕ¦¬ŕ§‡ŕ¦¨'}]),\n",
       "  ('investigations',\n",
       "   [{'snomed_id': '', 'term': 'S. bilirubin'},\n",
       "    {'snomed_id': '', 'term': 'SGPT'},\n",
       "    {'snomed_id': '', 'term': 'Anti HAV'},\n",
       "    {'snomed_id': '', 'term': 'Anti HEV'},\n",
       "    {'snomed_id': '', 'term': 'Urine R/M/E'},\n",
       "    {'snomed_id': '', 'term': 'S.Creatinine'},\n",
       "    {'snomed_id': '', 'term': 'CBC'},\n",
       "    {'snomed_id': '', 'term': 'usg of whole abdomen'}]),\n",
       "  ('consultation_date', '2017-10-16T10:18:32.627+0000'),\n",
       "  ('consultation_duration', 1773),\n",
       "  ('consultation_type',\n",
       "   {'is_followup': False, 'is_referred': False, 'is_free': False}),\n",
       "  ('followup_date', '2017-10-22T18:00:00.000+0000')]]"
      ]
     },
     "execution_count": 28,
     "metadata": {},
     "output_type": "execute_result"
    }
   ],
   "source": [
    "list_items"
   ]
  },
  {
   "cell_type": "code",
   "execution_count": 29,
   "metadata": {},
   "outputs": [
    {
     "data": {
      "text/plain": [
       "['brand_name',\n",
       " 'generic_name',\n",
       " 'company_name',\n",
       " 'strength',\n",
       " 'formulation',\n",
       " 'indication',\n",
       " 'pack_size',\n",
       " 'price']"
      ]
     },
     "execution_count": 29,
     "metadata": {},
     "output_type": "execute_result"
    }
   ],
   "source": [
    "list(list(list(prescr_corpus_full['prescription'].iloc[0]['medicines'][2].items())[0])[1])"
   ]
  },
  {
   "cell_type": "code",
   "execution_count": null,
   "metadata": {},
   "outputs": [],
   "source": []
  }
 ],
 "metadata": {
  "kernelspec": {
   "display_name": "Python 3",
   "language": "python",
   "name": "python3"
  },
  "language_info": {
   "codemirror_mode": {
    "name": "ipython",
    "version": 3
   },
   "file_extension": ".py",
   "mimetype": "text/x-python",
   "name": "python",
   "nbconvert_exporter": "python",
   "pygments_lexer": "ipython3",
   "version": "3.6.6"
  }
 },
 "nbformat": 4,
 "nbformat_minor": 2
}
