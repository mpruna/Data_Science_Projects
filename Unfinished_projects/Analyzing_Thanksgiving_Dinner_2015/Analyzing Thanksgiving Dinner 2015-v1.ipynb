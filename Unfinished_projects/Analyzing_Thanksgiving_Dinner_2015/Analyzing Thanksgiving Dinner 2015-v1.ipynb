{
 "cells": [
  {
   "cell_type": "markdown",
   "metadata": {},
   "source": [
    "# I analized Thanksgiving data to find pattern in dinner menus\n",
    "\n",
    "My goal in this project is to be able to find patterns regarding Thanksgiving in general (gender, age, income, travelling distance) and more specific about dinner menus.\n",
    "I would relly heavily on plots as it's the perfect method convey results data. A picture woth a thousand words.\n",
    "Each row in the dataset represents a respondent feedback to specific questions.\n",
    "Dataset can be found at this location:\n",
    "https://github.com/fivethirtyeight/data/tree/master/thanksgiving-2015"
   ]
  },
  {
   "cell_type": "code",
   "execution_count": null,
   "metadata": {},
   "outputs": [],
   "source": [
    "import pandas as pd\n",
    "import numpy as np\n",
    "import csv\n",
    "\n",
    "data=pd.read_csv(\"thanksgiving-2015-poll-data.csv\", encoding=\"Latin-1\")"
   ]
  },
  {
   "cell_type": "markdown",
   "metadata": {},
   "source": [
    "### Examining the data"
   ]
  },
  {
   "cell_type": "code",
   "execution_count": null,
   "metadata": {},
   "outputs": [],
   "source": [
    "data.columns"
   ]
  },
  {
   "cell_type": "markdown",
   "metadata": {},
   "source": [
    "1. Most of the column names are questions, and most of the column values are string responses to the questions. \n",
    "2. Most of the columns are categorical, as a survey respondent had to select one of a few options i.e \"What is typically the main dish at your Thanksgiving dinner?\""
   ]
  },
  {
   "cell_type": "markdown",
   "metadata": {},
   "source": [
    "### Rename columns\n",
    "\n",
    "Columns that represent `side dishes` ; `deserts` and `pies` are too long so I will rename them"
   ]
  },
  {
   "cell_type": "code",
   "execution_count": null,
   "metadata": {},
   "outputs": [],
   "source": [
    "def columns_rename(col_start_str,replace_str):\n",
    "    for col in data.columns:\n",
    "         if col.startswith(col_start_str):\n",
    "            items=col.split(\"-\")\n",
    "            items[1].replace(\" \",\"\")\n",
    "            data.rename(columns={col:str(replace_str)+items[1]}, inplace= True)\n",
    "            #complete_fl.append(str(\"Side dish\") +items[1])\n",
    "\n",
    "# rename side dish; pie; desert columns\n",
    "#columns_rename(col_start_str=\"Which of these side dishes\", replace_str=\"Side dish\")\n",
    "#columns_rename(col_start_str=\"Which type of pie\",replace_str=\"Pie\")\n",
    "#columns_rename(col_start_str=\"Which of these desserts\",replace_str=\"Deserts\")"
   ]
  },
  {
   "cell_type": "markdown",
   "metadata": {},
   "source": [
    "### Check dataset dimensions"
   ]
  },
  {
   "cell_type": "code",
   "execution_count": null,
   "metadata": {},
   "outputs": [],
   "source": [
    "data.columns"
   ]
  },
  {
   "cell_type": "code",
   "execution_count": null,
   "metadata": {},
   "outputs": [],
   "source": []
  },
  {
   "cell_type": "code",
   "execution_count": null,
   "metadata": {},
   "outputs": [],
   "source": [
    "data.shape"
   ]
  },
  {
   "cell_type": "markdown",
   "metadata": {},
   "source": [
    "Dataset contains 1058 rows, and 65 columns"
   ]
  },
  {
   "cell_type": "markdown",
   "metadata": {},
   "source": [
    "### Percentage of people celebrating Thanksgiving:"
   ]
  },
  {
   "cell_type": "code",
   "execution_count": null,
   "metadata": {},
   "outputs": [],
   "source": [
    "# import plotly plot modules\n",
    "# pie plot syntax with plotly and cufflinks:\n",
    "# https://plot.ly/pandas/pie-charts/\n",
    "\n",
    "from plotly.offline import download_plotlyjs, init_notebook_mode, iplot\n",
    "from plotly.graph_objs import *\n",
    "init_notebook_mode()\n",
    "import plotly.graph_objs as go\n",
    "import cufflinks as cf\n",
    "\n",
    "# get % of people celebarting Thanksgiving \n",
    "celeb_tg=data[\"Do you celebrate Thanksgiving?\"].value_counts().to_frame()\n",
    "\n",
    "# to plot with cufflinks I need to have a df where & labels columns can't be in index\n",
    "celeb_tg.reset_index(inplace=True)\n",
    "celeb_tg.columns=['labels','values']\n",
    "\n",
    "celeb_tg.iplot(kind='pie',labels='labels',values='values',pull=.2,hole=.2,title='Celebrate Thanksgiving',\n",
    "               textposition='outside',textinfo='value+percent')"
   ]
  },
  {
   "cell_type": "markdown",
   "metadata": {},
   "source": [
    "1. As we can see the overwhelming majority are celebrating Thanksgiving\n",
    "2. 92.6% celebrate; 7,37% don't\n",
    "3. We are only interested in people celebrating Thanksgiving so we are going to filter out those who don't"
   ]
  },
  {
   "cell_type": "markdown",
   "metadata": {
    "collapsed": true
   },
   "source": [
    "### Filtering out people that don't celebrate"
   ]
  },
  {
   "cell_type": "code",
   "execution_count": null,
   "metadata": {},
   "outputs": [],
   "source": [
    "data=data[data[\"Do you celebrate Thanksgiving?\"]==\"Yes\"]"
   ]
  },
  {
   "cell_type": "markdown",
   "metadata": {},
   "source": [
    "### Figuring out menu patternhttps://plot.ly/python/pie-charts/s:\n",
    "* what are the most common main dishes\n",
    "* what are the most common pies\n",
    "* what are the most common desers"
   ]
  },
  {
   "cell_type": "markdown",
   "metadata": {},
   "source": [
    "### Main dish"
   ]
  },
  {
   "cell_type": "code",
   "execution_count": null,
   "metadata": {},
   "outputs": [],
   "source": [
    "# python pie plot syntax without cufflinks\n",
    "# https://plot.ly/python/pie-charts/\n",
    "\n",
    "dish=data[\"What is typically the main dish at your Thanksgiving dinner?\"].value_counts()\n",
    "dish=dish.to_frame()\n",
    "dish.reset_index(inplace=True)\n",
    "dish.columns=['labels','values']\n",
    "\n",
    "plot_data=[]\n",
    "plot_data.append({\n",
    "        'labels': dish['labels'],\n",
    "        'values': dish['values'],\n",
    "        'type': 'pie',\n",
    "        'name': 'Starry Night',\n",
    "        'hoverinfo':'label+percent+name',\n",
    "        'hole': .4,\n",
    "        'pull': .2\n",
    "       })\n",
    "layout = dict(autosize = True, title = 'Main dish preference in Thanksgiving')\n",
    "\n",
    "fig = dict(data=plot_data, layout=layout)\n",
    "iplot(fig, filename='pie-subplots')"
   ]
  },
  {
   "cell_type": "markdown",
   "metadata": {},
   "source": [
    "88.2% prefer Turkey<br>\n",
    "2.98% prefer Ham/Pork<br>\n",
    "2.05% prefer Tofurkey<br>\n",
    "1.23% prefer chicken<br>\n",
    "1.13% prefer roast beef<br>\n",
    "0.30% prefer Turducken<br>"
   ]
  },
  {
   "cell_type": "markdown",
   "metadata": {},
   "source": [
    "### See what are other main dish preferences"
   ]
  },
  {
   "cell_type": "code",
   "execution_count": null,
   "metadata": {},
   "outputs": [],
   "source": [
    "dish2=data['What is typically the main dish at your Thanksgiving dinner? - Other (please specify)'].value_counts()\n",
    "dish2"
   ]
  },
  {
   "cell_type": "markdown",
   "metadata": {},
   "source": [
    "There are a few cases where people choose a different dish<br>\n",
    "Because of the lack of data I will not expore this deeper"
   ]
  },
  {
   "cell_type": "markdown",
   "metadata": {},
   "source": [
    "### Most common pie, desert, side dish\n",
    "\n",
    "The choice of pie or desert in Thanksgiving dinner is represented by multiple columns instead of one.<br>\n",
    "My goal here is to find out the most common pies and deserts. So I need to get the value_counts for a particular \"item\" and also collapse these collumns into one.<br>\n",
    "For this I will use 2 functions:<br>\n",
    "    1. return_list <--> gets the value_counts for a particular cathegory:\n",
    "    2. filter_null <--> help in collapsing these columns i.e will return a value only when != null\n",
    "    \n",
    "Also for this I will use 2 types of plots, bar and pie chart. Pie chart are good when you need to get a percentage from total. By defult a pie chart in plotly will show percent + values.If I only want to get top 10 most occurances by default pie chart will plot the data inaccuratly, because when it will get the total from a slice of the dataframe.\n",
    "To get arround this I created another column that represent the percentage "
   ]
  },
  {
   "cell_type": "code",
   "execution_count": null,
   "metadata": {},
   "outputs": [],
   "source": [
    "def return_list(search_string):\n",
    "    # create a list of columns for a specific food type i.e pie\n",
    "    result_list=[c for c in data.columns if c.startswith(search_string)]\n",
    "    \n",
    "    # get counts where row values for a particular column !=null\n",
    "    result = data[result_list].apply(pd.value_counts).fillna(0)\n",
    "    return result\n",
    "\n",
    "# return not null values\n",
    "def filter_nnull(x):\n",
    "    for i in x:\n",
    "        if i!=0:\n",
    "            return i"
   ]
  },
  {
   "cell_type": "markdown",
   "metadata": {},
   "source": [
    "### Figuring Out What Pies People Eat"
   ]
  },
  {
   "cell_type": "code",
   "execution_count": null,
   "metadata": {},
   "outputs": [],
   "source": [
    "# search for pie columns\n",
    "search_string='Which type of pie'\n",
    "\n",
    "# get pie counts\n",
    "result=return_list(search_string)\n",
    "\n",
    "# collapse the dataframe to a series by only returning != null values\n",
    "result['Pie type %']=result.apply(filter_nnull,axis=1)\n",
    "pie=result['Pie type %'].sort_values(ascending=False).to_frame().copy()\n",
    "\n",
    "# plotly h barc chart syntax\n",
    "# https://plot.ly/pandas/horizontal-bar-charts/\n",
    "\n",
    "layout=dict(autosize=True,\n",
    "            title='Most common pie in Thanksgiving',\n",
    "            xaxis=dict(domain=[0.08, 1])\n",
    "           )\n",
    "\n",
    "pie.head(10).sort_values(by='Pie type %', ascending=True).iplot(kind='barh',barmode='nowmal', bargap=.8, filename='pie_distrib',layout=layout)\n",
    "\n",
    "# change pie to a dataframe\n",
    "pie_p=pie.reset_index()\n",
    "pie_p.columns=('labels','values')\n",
    "\n",
    "# get percentage\n",
    "pie_p[\"%\"]=round(pie_p['values']/pie_p['values'].sum()*100,2)\n",
    "pie_p.head(10).iplot(kind='pie',labels='labels',values='%',pull=.2,hole=.2,title='Pie distribution Thanksgiving',\n",
    "                     textposition='outside',textinfo='value')"
   ]
  },
  {
   "cell_type": "markdown",
   "metadata": {},
   "source": [
    "### Pie distribution:\n",
    "1. Pumpkin 31.59%\n",
    "2. Apple 22.27%\n",
    "3. Pecan 14.82%\n",
    "4. Sweet Potato 6.59%\n",
    "5. Chocolate 5.76%"
   ]
  },
  {
   "cell_type": "markdown",
   "metadata": {},
   "source": [
    "### Figuring out what are the side dishes"
   ]
  },
  {
   "cell_type": "code",
   "execution_count": null,
   "metadata": {},
   "outputs": [],
   "source": [
    "# search string for side dish columns\n",
    "search_string='Which of these side dishes'\n",
    "\n",
    "#get side dish counts\n",
    "result=return_list(search_string)\n",
    "result['Side dishes']=result.apply(filter_nnull,axis=1)\n",
    "side=result['Side dishes'].sort_values(ascending=False).to_frame().copy()\n",
    "\n",
    "layout=dict(autosize=True,\n",
    "            title='Most common side dishes in Thanksgiving',\n",
    "            xaxis=dict(domain=[0.2, 1])\n",
    "           )\n",
    "\n",
    "side.head(10).sort_values(by='Side dishes', ascending=True).iplot(kind='barh',barmode='nowmal', bargap=.8, filename='side_dish_distrib',layout=layout)\n",
    "\n",
    "side_p=side.reset_index()\n",
    "side_p.columns=['labels','values']\n",
    "side_p[\"%\"]=round(side_p['values']/side_p['values'].sum()*100,2)\n",
    "side_p.head(10).iplot(kind='pie',labels='labels',values='%',pull=.2,hole=.2,title='Side dish distribution in Thanksgiving',\n",
    "                     textposition='outside',textinfo='value')"
   ]
  },
  {
   "cell_type": "markdown",
   "metadata": {},
   "source": [
    "### Side dish distribution\n",
    "1. Mashed potatoes 16%\n",
    "2. Rolls/biscuits 15%\n",
    "3. Green beans/green bean casserole 13.43%\n",
    "4. Yams/sweet potato casserole 12.36%\n",
    "5. Corn 9.09%"
   ]
  },
  {
   "cell_type": "markdown",
   "metadata": {},
   "source": [
    "### Deserts patterns"
   ]
  },
  {
   "cell_type": "code",
   "execution_count": null,
   "metadata": {},
   "outputs": [],
   "source": [
    "desert_list=[]\n",
    "columns=data.columns.tolist() \n",
    "for col in columns:\n",
    "    # search for desert columns\n",
    "    if col.startswith(\"Which of these desserts\"):\n",
    "        \n",
    "        # split to obtain only the desert string\n",
    "        items=col.split(\"-\")\n",
    "        items[1].replace(\" \",\"\")\n",
    "        \n",
    "        # rename row so as to contain only the desert name\n",
    "        data.rename(columns={col:items[1]}, inplace= True)\n",
    "        desert_list.append(items[1])\n",
    "        \n",
    "desert=data[desert_list].count()\n",
    "desert.sort_values(inplace=True, ascending=False)\n",
    "\n",
    "# convert desert series to df to plot a pie chart\n",
    "desert_p=desert.to_frame()\n",
    "desert_p.reset_index(inplace=True)\n",
    "desert_p.columns=('lables','values')\n",
    "\n",
    "#get percent\n",
    "desert_p[\"%\"]=round(desert_p['values']/desert_p['values'].sum()*100,2)\n",
    "\n",
    "#\n",
    "desert.iplot(kind='bar', xTitle='Desert', yTitle='Counts',margin=go.Margin(b=130),title='Most common deserts\\n in Thanksgiving 2015',\n",
    "             filename='cufflinks/income-bar-chart')\n",
    "desert_p.head(10).iplot(kind='pie',labels='lables',values='%',pull=.2,hole=.2,title='Desert dish distribution in Thanksgiving',\n",
    "                     textposition='outside',textinfo='value')\n",
    "desert_p"
   ]
  },
  {
   "cell_type": "markdown",
   "metadata": {},
   "source": [
    "### Age distribution on Thanksgiving"
   ]
  },
  {
   "cell_type": "code",
   "execution_count": null,
   "metadata": {},
   "outputs": [],
   "source": [
    "age=data[\"Age\"].value_counts().copy()\n",
    "age_df=age.to_frame()\n",
    "age_df.reset_index(inplace=True)\n",
    "age_df.columns=['labels','values']\n",
    "\n",
    "age.iplot(kind='bar', xTitle='Age', yTitle='Counts', title='Age distribution\\n in Thanksgiving 2015',\n",
    "             filename='cufflinks/categorical-bar-chart')\n",
    "age_df.iplot(kind='pie',labels='labels' ,values='values',pull=.1,hole=.1,title='Celebrating Thanksgiving percentage',\n",
    "            textposition='outside',textinfo='value+percent')\n",
    "age_df"
   ]
  },
  {
   "cell_type": "code",
   "execution_count": null,
   "metadata": {},
   "outputs": [],
   "source": [
    "def convert_age(column):\n",
    "    if pd.isnull(column)==True:\n",
    "        return None\n",
    "    if column==\"60+\":\n",
    "        return 60\n",
    "    else:\n",
    "        items=column.split(\"-\")\n",
    "        return(int(items[0]))\n",
    "data[\"int_age\"]=data[\"Age\"].apply(convert_age)\n",
    "data[\"int_age\"].value_counts()\n",
    "    "
   ]
  },
  {
   "cell_type": "markdown",
   "metadata": {},
   "source": [
    "As we can see the values for each age group are pretty even. The mean is at 236.75 and standard deviation 37.29"
   ]
  },
  {
   "cell_type": "markdown",
   "metadata": {},
   "source": [
    "# Household income \n"
   ]
  },
  {
   "cell_type": "code",
   "execution_count": null,
   "metadata": {},
   "outputs": [],
   "source": [
    "def sort_index(row):\n",
    "    strip1=row.split(' ')[0].split(',')\n",
    "    if strip1!='Prefer':\n",
    "        strip2=strip1[0][1:].split(',')\n",
    "        return strip2[0]\n",
    "    else:\n",
    "        return 'Prefer'"
   ]
  },
  {
   "cell_type": "code",
   "execution_count": null,
   "metadata": {},
   "outputs": [],
   "source": [
    "income=data[\"How much total combined money did all members of your HOUSEHOLD earn last year?\"].value_counts()\n",
    "income.iplot(kind='bar', xTitle='Income', yTitle='Counts',margin=go.Margin(b=160), title='Income distribution\\n in Thanksgiving 2015',\n",
    "             filename='cufflinks/income-bar-chart')\n",
    "\n",
    "income=income.to_frame()\n",
    "income.reset_index(inplace=True)\n",
    "income.columns=['labels','values']\n",
    "labels=income['labels'].tolist()\n",
    "values=income['values'].tolist()\n",
    "\n",
    "income['sort_index']=income['labels'].apply(sort_index)\n",
    "print(income[1:].sort_values(by='sort_index'))\n",
    "\n",
    "\n",
    "\n",
    "income.iplot(kind='pie',labels='labels',values='values',pull=.1,hole=.1,title='Income distribution in',\n",
    "               textposition='outside',textinfo='value+percent')\n"
   ]
  },
  {
   "cell_type": "markdown",
   "metadata": {},
   "source": [
    "### Correlating Travel Distance And Income\n",
    "\n",
    "     "
   ]
  },
  {
   "cell_type": "markdown",
   "metadata": {},
   "source": [
    "### Rename Income & Travel column "
   ]
  },
  {
   "cell_type": "code",
   "execution_count": null,
   "metadata": {},
   "outputs": [],
   "source": [
    "# rename columns\n",
    "data.rename(columns={\"How much total combined money did all members of your HOUSEHOLD earn last year?\":'Income'}, inplace= True)\n",
    "data.rename(columns={\"How far will you travel for Thanksgiving?\":'Travel'}, inplace= True)\n",
    "\n",
    "# get unique column values\n",
    "orig_travel=data['Travel'].unique().tolist()\n",
    "orig_travel"
   ]
  },
  {
   "cell_type": "markdown",
   "metadata": {},
   "source": [
    "### Replace Travel columns values\n",
    "\n",
    "Travel column values are to long. We are going to replace them with something shorter and meaningful."
   ]
  },
  {
   "cell_type": "code",
   "execution_count": null,
   "metadata": {},
   "outputs": [],
   "source": [
    "new_travel=['same town','few hours or less','no travel','several hours']\n",
    "data.replace({'Travel' : \n",
    "                  { \"Thanksgiving is local--it will take place in the town I live in\" : \"local\", \n",
    "                    \"Thanksgiving is out of town but not too far--it's a drive of a few hours or less\" : \"few hours\", \n",
    "                    \"Thanksgiving is happening at my home--I won't travel at all\" : \"no travel\",\n",
    "                    \"Thanksgiving is out of town and far away--I have to drive several hours or fly\":\"several hours\"}}\n",
    "                    ,inplace=True)\n",
    "data['Travel'].value_counts()"
   ]
  },
  {
   "cell_type": "code",
   "execution_count": null,
   "metadata": {},
   "outputs": [],
   "source": [
    "data['Income'].head()"
   ]
  },
  {
   "cell_type": "markdown",
   "metadata": {},
   "source": [
    "As we can the 'Income' column does not store categorical values. We need to define a function that will extract the lower income limit. This will impact accuracy. Values would be skewed to the lower limit."
   ]
  },
  {
   "cell_type": "code",
   "execution_count": null,
   "metadata": {},
   "outputs": [],
   "source": [
    "def extract_income(income_str):\n",
    "    if pd.isnull(income_str):\n",
    "        return None\n",
    "    income_str = income_str.split(\" \")[0]\n",
    "    if income_str == \"Prefer\":\n",
    "        return None\n",
    "    income_str = income_str.replace(\",\", \"\")\n",
    "    income_str = income_str.replace(\"$\", \"\")\n",
    "    return int(income_str)"
   ]
  },
  {
   "cell_type": "code",
   "execution_count": null,
   "metadata": {},
   "outputs": [],
   "source": [
    "data[\"Income\"] = data[\"Income\"].apply(extract_income)"
   ]
  },
  {
   "cell_type": "code",
   "execution_count": null,
   "metadata": {},
   "outputs": [],
   "source": [
    "data.groupby(['Income'])['Travel'].value_counts()"
   ]
  },
  {
   "cell_type": "markdown",
   "metadata": {},
   "source": [
    "### Plot travel based on income"
   ]
  },
  {
   "cell_type": "code",
   "execution_count": null,
   "metadata": {},
   "outputs": [],
   "source": [
    "import pandas as pd\n",
    "import matplotlib.pyplot as plt\n",
    "plt.ioff();\n",
    "import random\n",
    "\n",
    "%matplotlib inline\n",
    "print(plt.style.available)\n",
    "plt.style.use('fivethirtyeight')"
   ]
  },
  {
   "cell_type": "code",
   "execution_count": null,
   "metadata": {},
   "outputs": [],
   "source": [
    "inc_travel=data.loc[:,['Income','Travel']]\n",
    "a=pd.pivot_table(inc_travel, index = ['Income'], columns=['Travel'], aggfunc = len)\n",
    "a.plot(title='Corelating travel distange based on income',figsize=(14,5));"
   ]
  },
  {
   "cell_type": "code",
   "execution_count": null,
   "metadata": {},
   "outputs": [],
   "source": [
    "fig , ax =plt.subplots(figsize=(14,7))\n",
    "a.plot.bar(ax=ax, title='Travel distance based on income');"
   ]
  },
  {
   "cell_type": "code",
   "execution_count": null,
   "metadata": {},
   "outputs": [],
   "source": [
    "inc_low_travel=inc_travel[inc_travel['Income']<150000]\n",
    "a_low=inc_low_travel.pivot_table(inc_low_travel,index=['Income'],columns=['Travel'],aggfunc=len)\n",
    "a_low\n",
    "inc_low_travel.groupby(['Income'])['Travel'].value_counts()"
   ]
  },
  {
   "cell_type": "code",
   "execution_count": null,
   "metadata": {},
   "outputs": [],
   "source": [
    "config_cf={'showLink': False,'displayModeBar': False}\n",
    "a=data.groupby(['Have you ever attended a \"Friendsgiving?\"'])['int_age'].mean()\n",
    "col=['#32ab60','#8cb8d6']\n",
    "fig=a.reset_index().iplot(kind='pie',labels='Have you ever attended a \"Friendsgiving?\"',values='int_age',textinfo='value',\n",
    "                    asFigure=True,colors=col,pull=0.02,hole=0.15,\n",
    "                     title='Average age for people celebrating Friendsgiving ')\n",
    "iplot(fig,config=config_cf)"
   ]
  },
  {
   "cell_type": "code",
   "execution_count": null,
   "metadata": {},
   "outputs": [],
   "source": [
    "a=data.groupby(['Have you ever attended a \"Friendsgiving?\"'])['Income'].mean()\n",
    "fig=a.reset_index().iplot(kind='pie',labels='Have you ever attended a \"Friendsgiving?\"',values='Income',textinfo='value',\n",
    "                      colors=col,asFigure=True, pull=0.02,hole=0.15,\n",
    "                     title='Average income for people celebrating Friendsgiving ')\n",
    "iplot(fig,config=config_cf)"
   ]
  },
  {
   "cell_type": "code",
   "execution_count": null,
   "metadata": {},
   "outputs": [],
   "source": [
    "data['US Region'].unique()"
   ]
  },
  {
   "cell_type": "code",
   "execution_count": null,
   "metadata": {},
   "outputs": [],
   "source": [
    "data.columns"
   ]
  },
  {
   "cell_type": "code",
   "execution_count": null,
   "metadata": {},
   "outputs": [],
   "source": [
    "def rename_col(col_str,list):\n",
    "    nl=[]\n",
    "    for item in list:\n",
    "        v=str(item).split(\"-\")\n",
    "        print(v)\n",
    "        v=col_str+v[1]\n",
    "        nl.append(v)\n",
    "        \n",
    "    return nl"
   ]
  },
  {
   "cell_type": "code",
   "execution_count": null,
   "metadata": {},
   "outputs": [],
   "source": [
    "col_str='Side'\n",
    "new_cols=rename_col(col_str,data.columns[11:26].tolist())\n",
    "print(new_cols)"
   ]
  },
  {
   "cell_type": "code",
   "execution_count": null,
   "metadata": {},
   "outputs": [],
   "source": [
    "new_cols"
   ]
  },
  {
   "cell_type": "code",
   "execution_count": null,
   "metadata": {},
   "outputs": [],
   "source": [
    "old_columns=data.columns[11:26].tolist()\n",
    "old_columns\n",
    "print(len(old_columns))"
   ]
  },
  {
   "cell_type": "code",
   "execution_count": null,
   "metadata": {},
   "outputs": [],
   "source": [
    "old_columns"
   ]
  },
  {
   "cell_type": "code",
   "execution_count": null,
   "metadata": {},
   "outputs": [],
   "source": [
    "new_cols\n",
    "print(len(new_cols))"
   ]
  },
  {
   "cell_type": "code",
   "execution_count": null,
   "metadata": {},
   "outputs": [],
   "source": [
    "#old_columns=data.columns[11:26].tolist()\n",
    "data.rename(columns=dict(zip(old_columns, new_cols)),inplace=True)"
   ]
  },
  {
   "cell_type": "code",
   "execution_count": null,
   "metadata": {},
   "outputs": [],
   "source": [
    "data.columns"
   ]
  },
  {
   "cell_type": "code",
   "execution_count": null,
   "metadata": {},
   "outputs": [],
   "source": [
    "col_str='Pie'\n",
    "new_cols=rename_col(col_str,data.columns[26:39].tolist())\n",
    "old_columns=data.columns[26:39].tolist()\n",
    "data.rename(columns=dict(zip(old_columns, new_cols)),inplace=True)"
   ]
  },
  {
   "cell_type": "code",
   "execution_count": null,
   "metadata": {},
   "outputs": [],
   "source": [
    "data.columns"
   ]
  },
  {
   "cell_type": "code",
   "execution_count": null,
   "metadata": {},
   "outputs": [],
   "source": [
    "col_to_keep=data.columns[11:26].tolist()\n",
    "col_to_keep.append('US Region')\n",
    "print(col_to_keep)\n",
    "#test=\n",
    "test=data.loc[:,col_to_keep]\n",
    "a=test.pivot_table(index='US Region',columns=test.columns[1:15].tolist(),aggfunc=len)\n",
    "#a\n",
    "len(test.columns)\n",
    "a"
   ]
  },
  {
   "cell_type": "code",
   "execution_count": null,
   "metadata": {},
   "outputs": [],
   "source": [
    "data.loc[:,col_to_keep].groupby('US Region').count()"
   ]
  },
  {
   "cell_type": "code",
   "execution_count": null,
   "metadata": {},
   "outputs": [],
   "source": [
    "col_to_keep2=data.columns[26:39].tolist()\n",
    "col_to_keep2.append('US Region')\n",
    "test=data.loc[:,col_to_keep2].groupby('US Region').count()"
   ]
  },
  {
   "cell_type": "code",
   "execution_count": null,
   "metadata": {},
   "outputs": [],
   "source": [
    "test"
   ]
  },
  {
   "cell_type": "code",
   "execution_count": null,
   "metadata": {},
   "outputs": [],
   "source": [
    "test.index.get_level_values(0)"
   ]
  },
  {
   "cell_type": "code",
   "execution_count": null,
   "metadata": {},
   "outputs": [],
   "source": [
    "test.index.get_level_values(0)"
   ]
  },
  {
   "cell_type": "code",
   "execution_count": null,
   "metadata": {},
   "outputs": [],
   "source": [
    "test.index[0]"
   ]
  },
  {
   "cell_type": "code",
   "execution_count": null,
   "metadata": {},
   "outputs": [],
   "source": [
    "test.stack()"
   ]
  },
  {
   "cell_type": "code",
   "execution_count": null,
   "metadata": {},
   "outputs": [],
   "source": []
  },
  {
   "cell_type": "code",
   "execution_count": null,
   "metadata": {},
   "outputs": [],
   "source": [
    "test"
   ]
  },
  {
   "cell_type": "code",
   "execution_count": null,
   "metadata": {},
   "outputs": [],
   "source": [
    "regions=data['US Region'].unique()"
   ]
  },
  {
   "cell_type": "code",
   "execution_count": null,
   "metadata": {},
   "outputs": [],
   "source": []
  }
 ],
 "metadata": {
  "kernelspec": {
   "display_name": "Python 3",
   "language": "python",
   "name": "python3"
  },
  "language_info": {
   "codemirror_mode": {
    "name": "ipython",
    "version": 3
   },
   "file_extension": ".py",
   "mimetype": "text/x-python",
   "name": "python",
   "nbconvert_exporter": "python",
   "pygments_lexer": "ipython3",
   "version": "3.6.4"
  }
 },
 "nbformat": 4,
 "nbformat_minor": 2
}
